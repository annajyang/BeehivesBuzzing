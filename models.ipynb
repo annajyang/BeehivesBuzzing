{
  "nbformat": 4,
  "nbformat_minor": 0,
  "metadata": {
    "colab": {
      "name": "models",
      "provenance": [],
      "collapsed_sections": [
        "nHP6Wuk3Ab24"
      ]
    },
    "kernelspec": {
      "name": "python3",
      "display_name": "Python 3"
    },
    "language_info": {
      "name": "python"
    },
    "accelerator": "GPU"
  },
  "cells": [
    {
      "cell_type": "markdown",
      "metadata": {
        "id": "iYS_H4iO75Bv"
      },
      "source": [
        "# Loading in and opening the data"
      ]
    },
    {
      "cell_type": "markdown",
      "metadata": {
        "id": "jk8jFrfF-UhM"
      },
      "source": [
        "the data is uploaded as a zip file and opened into folder target_dir; \n",
        "the csv is opened into 'data_csv'; \n",
        "the counter checks the number of samples from each device"
      ]
    },
    {
      "cell_type": "code",
      "source": [
        "from google.colab import drive\n",
        "import pandas as pd\n",
        "from collections import Counter\n",
        "import numpy as np\n",
        "import pylab\n",
        "import matplotlib.pyplot as plt\n",
        "import random\n",
        "import math"
      ],
      "metadata": {
        "id": "BkfWWDpZ__vU"
      },
      "execution_count": 1,
      "outputs": []
    },
    {
      "cell_type": "code",
      "metadata": {
        "id": "5-SROz51wHgp",
        "colab": {
          "base_uri": "https://localhost:8080/"
        },
        "outputId": "27e3c5da-87c0-444d-c71f-763f74853ddb"
      },
      "source": [
        "drive.mount('/content/gdrive')\n",
        "!unzip gdrive/My\\ Drive/Beehive\\ monitor/data/data_2_1.zip > /dev/null\n",
        "!unzip gdrive/My\\ Drive/Beehive\\ monitor/data/data_1_1.zip > /dev/null\n"
      ],
      "execution_count": 2,
      "outputs": [
        {
          "output_type": "stream",
          "name": "stdout",
          "text": [
            "Mounted at /content/gdrive\n"
          ]
        }
      ]
    },
    {
      "cell_type": "code",
      "metadata": {
        "id": "quJNSDA62thG",
        "colab": {
          "base_uri": "https://localhost:8080/",
          "height": 548
        },
        "outputId": "36abe922-1714-4996-c365-fcc0a2ba94a3"
      },
      "source": [
        "data_csv = pd.read_csv('gdrive/My Drive/Beehive monitor/data/data_combined.csv')\n",
        "data_csv.head()"
      ],
      "execution_count": 2,
      "outputs": [
        {
          "output_type": "execute_result",
          "data": {
            "text/html": [
              "\n",
              "  <div id=\"df-6b82b960-34c7-488d-a301-12b169718097\">\n",
              "    <div class=\"colab-df-container\">\n",
              "      <div>\n",
              "<style scoped>\n",
              "    .dataframe tbody tr th:only-of-type {\n",
              "        vertical-align: middle;\n",
              "    }\n",
              "\n",
              "    .dataframe tbody tr th {\n",
              "        vertical-align: top;\n",
              "    }\n",
              "\n",
              "    .dataframe thead th {\n",
              "        text-align: right;\n",
              "    }\n",
              "</style>\n",
              "<table border=\"1\" class=\"dataframe\">\n",
              "  <thead>\n",
              "    <tr style=\"text-align: right;\">\n",
              "      <th></th>\n",
              "      <th>Unnamed: 0</th>\n",
              "      <th>device</th>\n",
              "      <th>date</th>\n",
              "      <th>hive temp</th>\n",
              "      <th>hive humidity</th>\n",
              "      <th>hive pressure</th>\n",
              "      <th>weather temp</th>\n",
              "      <th>weather humidity</th>\n",
              "      <th>weather pressure</th>\n",
              "      <th>wind speed</th>\n",
              "      <th>gust speed</th>\n",
              "      <th>weatherID</th>\n",
              "      <th>cloud coverage</th>\n",
              "      <th>rain</th>\n",
              "      <th>lat</th>\n",
              "      <th>long</th>\n",
              "      <th>file name</th>\n",
              "      <th>queen</th>\n",
              "      <th>frames</th>\n",
              "    </tr>\n",
              "  </thead>\n",
              "  <tbody>\n",
              "    <tr>\n",
              "      <th>0</th>\n",
              "      <td>0</td>\n",
              "      <td>1</td>\n",
              "      <td>2021-07-31 12:09:27</td>\n",
              "      <td>35.65</td>\n",
              "      <td>30.02</td>\n",
              "      <td>1010.88</td>\n",
              "      <td>25.72</td>\n",
              "      <td>49</td>\n",
              "      <td>1017</td>\n",
              "      <td>1.79</td>\n",
              "      <td>3.58</td>\n",
              "      <td>801</td>\n",
              "      <td>20</td>\n",
              "      <td>0</td>\n",
              "      <td>37.29</td>\n",
              "      <td>-121.95</td>\n",
              "      <td>2021-07-31--12-09-27_1.raw</td>\n",
              "      <td>1</td>\n",
              "      <td>8</td>\n",
              "    </tr>\n",
              "    <tr>\n",
              "      <th>1</th>\n",
              "      <td>1</td>\n",
              "      <td>1</td>\n",
              "      <td>2021-07-31 12:39:11</td>\n",
              "      <td>35.66</td>\n",
              "      <td>30.54</td>\n",
              "      <td>1010.61</td>\n",
              "      <td>26.34</td>\n",
              "      <td>44</td>\n",
              "      <td>1017</td>\n",
              "      <td>3.09</td>\n",
              "      <td>NaN</td>\n",
              "      <td>801</td>\n",
              "      <td>20</td>\n",
              "      <td>0</td>\n",
              "      <td>37.29</td>\n",
              "      <td>-121.95</td>\n",
              "      <td>2021-07-31--12-39-11_1.raw</td>\n",
              "      <td>1</td>\n",
              "      <td>8</td>\n",
              "    </tr>\n",
              "    <tr>\n",
              "      <th>2</th>\n",
              "      <td>2</td>\n",
              "      <td>1</td>\n",
              "      <td>2021-07-31 13:08:59</td>\n",
              "      <td>35.35</td>\n",
              "      <td>32.29</td>\n",
              "      <td>1010.36</td>\n",
              "      <td>27.53</td>\n",
              "      <td>48</td>\n",
              "      <td>951</td>\n",
              "      <td>0.45</td>\n",
              "      <td>2.24</td>\n",
              "      <td>801</td>\n",
              "      <td>20</td>\n",
              "      <td>0</td>\n",
              "      <td>37.29</td>\n",
              "      <td>-121.95</td>\n",
              "      <td>2021-07-31--13-08-59_1.raw</td>\n",
              "      <td>1</td>\n",
              "      <td>8</td>\n",
              "    </tr>\n",
              "    <tr>\n",
              "      <th>3</th>\n",
              "      <td>3</td>\n",
              "      <td>1</td>\n",
              "      <td>2021-07-31 13:38:43</td>\n",
              "      <td>35.65</td>\n",
              "      <td>33.34</td>\n",
              "      <td>1010.34</td>\n",
              "      <td>27.94</td>\n",
              "      <td>45</td>\n",
              "      <td>1016</td>\n",
              "      <td>1.34</td>\n",
              "      <td>2.24</td>\n",
              "      <td>801</td>\n",
              "      <td>20</td>\n",
              "      <td>0</td>\n",
              "      <td>37.29</td>\n",
              "      <td>-121.95</td>\n",
              "      <td>2021-07-31--13-38-43_1.raw</td>\n",
              "      <td>1</td>\n",
              "      <td>8</td>\n",
              "    </tr>\n",
              "    <tr>\n",
              "      <th>4</th>\n",
              "      <td>4</td>\n",
              "      <td>1</td>\n",
              "      <td>2021-07-31 14:08:29</td>\n",
              "      <td>35.39</td>\n",
              "      <td>33.70</td>\n",
              "      <td>1010.23</td>\n",
              "      <td>28.51</td>\n",
              "      <td>45</td>\n",
              "      <td>1015</td>\n",
              "      <td>0.89</td>\n",
              "      <td>2.24</td>\n",
              "      <td>801</td>\n",
              "      <td>20</td>\n",
              "      <td>0</td>\n",
              "      <td>37.29</td>\n",
              "      <td>-121.95</td>\n",
              "      <td>2021-07-31--14-08-29_1.raw</td>\n",
              "      <td>1</td>\n",
              "      <td>8</td>\n",
              "    </tr>\n",
              "  </tbody>\n",
              "</table>\n",
              "</div>\n",
              "      <button class=\"colab-df-convert\" onclick=\"convertToInteractive('df-6b82b960-34c7-488d-a301-12b169718097')\"\n",
              "              title=\"Convert this dataframe to an interactive table.\"\n",
              "              style=\"display:none;\">\n",
              "        \n",
              "  <svg xmlns=\"http://www.w3.org/2000/svg\" height=\"24px\"viewBox=\"0 0 24 24\"\n",
              "       width=\"24px\">\n",
              "    <path d=\"M0 0h24v24H0V0z\" fill=\"none\"/>\n",
              "    <path d=\"M18.56 5.44l.94 2.06.94-2.06 2.06-.94-2.06-.94-.94-2.06-.94 2.06-2.06.94zm-11 1L8.5 8.5l.94-2.06 2.06-.94-2.06-.94L8.5 2.5l-.94 2.06-2.06.94zm10 10l.94 2.06.94-2.06 2.06-.94-2.06-.94-.94-2.06-.94 2.06-2.06.94z\"/><path d=\"M17.41 7.96l-1.37-1.37c-.4-.4-.92-.59-1.43-.59-.52 0-1.04.2-1.43.59L10.3 9.45l-7.72 7.72c-.78.78-.78 2.05 0 2.83L4 21.41c.39.39.9.59 1.41.59.51 0 1.02-.2 1.41-.59l7.78-7.78 2.81-2.81c.8-.78.8-2.07 0-2.86zM5.41 20L4 18.59l7.72-7.72 1.47 1.35L5.41 20z\"/>\n",
              "  </svg>\n",
              "      </button>\n",
              "      \n",
              "  <style>\n",
              "    .colab-df-container {\n",
              "      display:flex;\n",
              "      flex-wrap:wrap;\n",
              "      gap: 12px;\n",
              "    }\n",
              "\n",
              "    .colab-df-convert {\n",
              "      background-color: #E8F0FE;\n",
              "      border: none;\n",
              "      border-radius: 50%;\n",
              "      cursor: pointer;\n",
              "      display: none;\n",
              "      fill: #1967D2;\n",
              "      height: 32px;\n",
              "      padding: 0 0 0 0;\n",
              "      width: 32px;\n",
              "    }\n",
              "\n",
              "    .colab-df-convert:hover {\n",
              "      background-color: #E2EBFA;\n",
              "      box-shadow: 0px 1px 2px rgba(60, 64, 67, 0.3), 0px 1px 3px 1px rgba(60, 64, 67, 0.15);\n",
              "      fill: #174EA6;\n",
              "    }\n",
              "\n",
              "    [theme=dark] .colab-df-convert {\n",
              "      background-color: #3B4455;\n",
              "      fill: #D2E3FC;\n",
              "    }\n",
              "\n",
              "    [theme=dark] .colab-df-convert:hover {\n",
              "      background-color: #434B5C;\n",
              "      box-shadow: 0px 1px 3px 1px rgba(0, 0, 0, 0.15);\n",
              "      filter: drop-shadow(0px 1px 2px rgba(0, 0, 0, 0.3));\n",
              "      fill: #FFFFFF;\n",
              "    }\n",
              "  </style>\n",
              "\n",
              "      <script>\n",
              "        const buttonEl =\n",
              "          document.querySelector('#df-6b82b960-34c7-488d-a301-12b169718097 button.colab-df-convert');\n",
              "        buttonEl.style.display =\n",
              "          google.colab.kernel.accessAllowed ? 'block' : 'none';\n",
              "\n",
              "        async function convertToInteractive(key) {\n",
              "          const element = document.querySelector('#df-6b82b960-34c7-488d-a301-12b169718097');\n",
              "          const dataTable =\n",
              "            await google.colab.kernel.invokeFunction('convertToInteractive',\n",
              "                                                     [key], {});\n",
              "          if (!dataTable) return;\n",
              "\n",
              "          const docLinkHtml = 'Like what you see? Visit the ' +\n",
              "            '<a target=\"_blank\" href=https://colab.research.google.com/notebooks/data_table.ipynb>data table notebook</a>'\n",
              "            + ' to learn more about interactive tables.';\n",
              "          element.innerHTML = '';\n",
              "          dataTable['output_type'] = 'display_data';\n",
              "          await google.colab.output.renderOutput(dataTable, element);\n",
              "          const docLink = document.createElement('div');\n",
              "          docLink.innerHTML = docLinkHtml;\n",
              "          element.appendChild(docLink);\n",
              "        }\n",
              "      </script>\n",
              "    </div>\n",
              "  </div>\n",
              "  "
            ],
            "text/plain": [
              "   Unnamed: 0  device  ... queen  frames\n",
              "0           0       1  ...     1       8\n",
              "1           1       1  ...     1       8\n",
              "2           2       1  ...     1       8\n",
              "3           3       1  ...     1       8\n",
              "4           4       1  ...     1       8\n",
              "\n",
              "[5 rows x 19 columns]"
            ]
          },
          "metadata": {},
          "execution_count": 2
        }
      ]
    },
    {
      "cell_type": "code",
      "metadata": {
        "id": "F5Lqr5A01Drj",
        "colab": {
          "base_uri": "https://localhost:8080/"
        },
        "outputId": "79ab0707-15f1-405c-f83b-a7cd42ec99b1"
      },
      "source": [
        "Counter(data_csv['device'])"
      ],
      "execution_count": 3,
      "outputs": [
        {
          "output_type": "execute_result",
          "data": {
            "text/plain": [
              "Counter({1: 167, 2: 149})"
            ]
          },
          "metadata": {},
          "execution_count": 3
        }
      ]
    },
    {
      "cell_type": "markdown",
      "metadata": {
        "id": "osV_mKvN8DBV"
      },
      "source": [
        "# Sample loading and visualizing a single raw file"
      ]
    },
    {
      "cell_type": "markdown",
      "metadata": {
        "id": "_rNxGajb_eTc"
      },
      "source": [
        "load a sound file from the folder; \n",
        "see the length of the file;\n",
        "show a plot of the sound file\n"
      ]
    },
    {
      "cell_type": "code",
      "source": [
        "data = np.memmap(\"data_1/2021-07-31--12-39-11_1.raw\", dtype='h', mode='r')\n",
        "print(data)"
      ],
      "metadata": {
        "id": "Qho84ROR3qoC",
        "colab": {
          "base_uri": "https://localhost:8080/"
        },
        "outputId": "adb72cdc-06f6-489a-df6f-bc4276ee681b"
      },
      "execution_count": 4,
      "outputs": [
        {
          "output_type": "stream",
          "name": "stdout",
          "text": [
            "[   0    0    0 ... 3964 4277 4438]\n"
          ]
        }
      ]
    },
    {
      "cell_type": "code",
      "source": [
        "pylab.plot(data)\n",
        "pylab.show()"
      ],
      "metadata": {
        "id": "ZHOqgLxW32vX",
        "colab": {
          "base_uri": "https://localhost:8080/",
          "height": 278
        },
        "outputId": "0a526f40-e146-4244-84ac-0838c59caea7"
      },
      "execution_count": 5,
      "outputs": [
        {
          "output_type": "display_data",
          "data": {
            "image/png": "[encoded data removed]",
            "text/plain": [
              "<Figure size 432x288 with 1 Axes>"
            ]
          },
          "metadata": {
            "needs_background": "light"
          }
        }
      ]
    },
    {
      "cell_type": "code",
      "metadata": {
        "id": "EiC02CRxCu0H",
        "colab": {
          "base_uri": "https://localhost:8080/"
        },
        "outputId": "77f4a3ac-b247-4ab4-919f-dca412f67fc8"
      },
      "source": [
        "len(data)"
      ],
      "execution_count": 6,
      "outputs": [
        {
          "output_type": "execute_result",
          "data": {
            "text/plain": [
              "958464"
            ]
          },
          "metadata": {},
          "execution_count": 6
        }
      ]
    },
    {
      "cell_type": "markdown",
      "metadata": {
        "id": "9faRaVC48OgU"
      },
      "source": [
        "# Processing the sound data"
      ]
    },
    {
      "cell_type": "markdown",
      "metadata": {
        "id": "FE9QE6DmQrga"
      },
      "source": [
        "add every sound file to a list 'l'; get the length of the list; plot a random file"
      ]
    },
    {
      "cell_type": "code",
      "metadata": {
        "id": "w7PLaqpd2Zdj"
      },
      "source": [
        "l = []\n",
        "for i in data_csv['file name']:\n",
        "  folder = \"data_1/\"\n",
        "  if i[-5:-4] == '2':\n",
        "    folder = \"data_2/\"\n",
        "  data = np.memmap(folder+i, dtype='h', mode='r')\n",
        "  l.append(data)"
      ],
      "execution_count": 7,
      "outputs": []
    },
    {
      "cell_type": "code",
      "metadata": {
        "id": "UOP1nK973eH1",
        "colab": {
          "base_uri": "https://localhost:8080/"
        },
        "outputId": "9bc792ca-6546-4525-dcdf-86c72c56e0a6"
      },
      "source": [
        "len(l)"
      ],
      "execution_count": 8,
      "outputs": [
        {
          "output_type": "execute_result",
          "data": {
            "text/plain": [
              "316"
            ]
          },
          "metadata": {},
          "execution_count": 8
        }
      ]
    },
    {
      "cell_type": "code",
      "metadata": {
        "id": "O99CHV0V9X1b",
        "colab": {
          "base_uri": "https://localhost:8080/",
          "height": 265
        },
        "outputId": "09dbfd26-682b-4ca8-c35a-a92ee59806f3"
      },
      "source": [
        "plt.plot(l[random.randint(0, len(l))][:100000])\n",
        "plt.plot(l[random.randint(0, len(l))][8000:])\n",
        "plt.show()"
      ],
      "execution_count": 9,
      "outputs": [
        {
          "output_type": "display_data",
          "data": {
            "image/png": "[encoded data removed]",
            "text/plain": [
              "<Figure size 432x288 with 1 Axes>"
            ]
          },
          "metadata": {
            "needs_background": "light"
          }
        }
      ]
    },
    {
      "cell_type": "code",
      "source": [
        "plt.plot(l[random.randint(0, len(l))][100000:150000])"
      ],
      "metadata": {
        "id": "duiHRiVNAntm",
        "colab": {
          "base_uri": "https://localhost:8080/",
          "height": 282
        },
        "outputId": "00ff0e8e-1596-43aa-f564-fd418c3c9daa"
      },
      "execution_count": 10,
      "outputs": [
        {
          "output_type": "execute_result",
          "data": {
            "text/plain": [
              "[<matplotlib.lines.Line2D at 0x7f4c2cc00110>]"
            ]
          },
          "metadata": {},
          "execution_count": 10
        },
        {
          "output_type": "display_data",
          "data": {
            "image/png": "[encoded data removed]",
            "text/plain": [
              "<Figure size 432x288 with 1 Axes>"
            ]
          },
          "metadata": {
            "needs_background": "light"
          }
        }
      ]
    },
    {
      "cell_type": "code",
      "metadata": {
        "id": "ZFBqAxxCZ_w6",
        "colab": {
          "base_uri": "https://localhost:8080/"
        },
        "outputId": "c8714bd0-8bc2-47c2-a793-5b269c93b39e"
      },
      "source": [
        "l_uni = np.empty((len(l),500),float)\n",
        "for i,val in enumerate(l):\n",
        "  val2 = np.array(val[100000:100500])\n",
        "  l_uni[i]=val2\n",
        "l_uni.shape"
      ],
      "execution_count": 43,
      "outputs": [
        {
          "output_type": "execute_result",
          "data": {
            "text/plain": [
              "(316, 500)"
            ]
          },
          "metadata": {},
          "execution_count": 43
        }
      ]
    },
    {
      "cell_type": "code",
      "source": [
        "plt.plot(l_uni[0])\n",
        "plt.plot(l[0][100000:100500])\n",
        "plt.plot(l_uni[200])"
      ],
      "metadata": {
        "id": "Rg-v-LcnBT5F",
        "colab": {
          "base_uri": "https://localhost:8080/",
          "height": 282
        },
        "outputId": "0448c949-b259-4489-d1a9-4f12db0544c7"
      },
      "execution_count": 54,
      "outputs": [
        {
          "output_type": "execute_result",
          "data": {
            "text/plain": [
              "[<matplotlib.lines.Line2D at 0x7f4b2fa91a10>]"
            ]
          },
          "metadata": {},
          "execution_count": 54
        },
        {
          "output_type": "display_data",
          "data": {
            "image/png": "[encoded data removed]",
            "text/plain": [
              "<Figure size 432x288 with 1 Axes>"
            ]
          },
          "metadata": {
            "needs_background": "light"
          }
        }
      ]
    },
    {
      "cell_type": "markdown",
      "metadata": {
        "id": "YxAvQN-v8YKa"
      },
      "source": [
        "# Get model and train"
      ]
    },
    {
      "cell_type": "markdown",
      "metadata": {
        "id": "TI3IHbNKQ-1o"
      },
      "source": [
        "split the data into test and training sets (by device number); print the test set; print the lengths of the training sets; run a logistic regression model on the training sets"
      ]
    },
    {
      "cell_type": "code",
      "metadata": {
        "id": "cj-PCKmw4q7w"
      },
      "source": [
        "from sklearn.model_selection import train_test_split\n",
        "from sklearn.linear_model import LogisticRegression\n",
        "from sklearn.metrics import accuracy_score\n",
        "\n",
        "from tensorflow import keras\n",
        "from tensorflow.keras import layers"
      ],
      "execution_count": 13,
      "outputs": []
    },
    {
      "cell_type": "code",
      "source": [
        "y = np.array(data_csv['device'])\n",
        "X_train, X_test, y_train, y_test = train_test_split(l_uni, np.array(y), test_size=0.10, random_state=42)"
      ],
      "metadata": {
        "id": "DfLUyzzFKT0q"
      },
      "execution_count": 59,
      "outputs": []
    },
    {
      "cell_type": "markdown",
      "source": [
        "# basic logistic regression model"
      ],
      "metadata": {
        "id": "nmAD78SxJxPc"
      }
    },
    {
      "cell_type": "code",
      "metadata": {
        "id": "dMJMUkd-7GOQ",
        "colab": {
          "base_uri": "https://localhost:8080/"
        },
        "outputId": "00fb39f5-5bef-439e-e4c9-b2bac79c1b02"
      },
      "source": [
        "logreg = LogisticRegression()\n",
        "logreg.fit(X_train, y_train)"
      ],
      "execution_count": 60,
      "outputs": [
        {
          "output_type": "stream",
          "name": "stderr",
          "text": [
            "/usr/local/lib/python3.7/dist-packages/sklearn/linear_model/_logistic.py:818: ConvergenceWarning: lbfgs failed to converge (status=1):\n",
            "STOP: TOTAL NO. of ITERATIONS REACHED LIMIT.\n",
            "\n",
            "Increase the number of iterations (max_iter) or scale the data as shown in:\n",
            "    https://scikit-learn.org/stable/modules/preprocessing.html\n",
            "Please also refer to the documentation for alternative solver options:\n",
            "    https://scikit-learn.org/stable/modules/linear_model.html#logistic-regression\n",
            "  extra_warning_msg=_LOGISTIC_SOLVER_CONVERGENCE_MSG,\n"
          ]
        },
        {
          "output_type": "execute_result",
          "data": {
            "text/plain": [
              "LogisticRegression()"
            ]
          },
          "metadata": {},
          "execution_count": 60
        }
      ]
    },
    {
      "cell_type": "code",
      "source": [
        "predictions = logreg.predict(X_test)\n",
        "acc = accuracy_score(predictions, y_test)\n",
        "print(acc)"
      ],
      "metadata": {
        "id": "B83M44NgBumS",
        "colab": {
          "base_uri": "https://localhost:8080/"
        },
        "outputId": "5a62b1a6-8d68-4123-b85a-7d53687b40b8"
      },
      "execution_count": 61,
      "outputs": [
        {
          "output_type": "stream",
          "name": "stdout",
          "text": [
            "0.375\n"
          ]
        }
      ]
    },
    {
      "cell_type": "markdown",
      "source": [
        "# Custom MLP\n",
        "\n",
        "if the label is 1 -> label is 0. [1, 0]\n",
        "if the label is 2 -> label is 1. [0, 1] "
      ],
      "metadata": {
        "id": "ILXV34NSJ19x"
      }
    },
    {
      "cell_type": "code",
      "source": [
        "y_train_onehot = np.zeros((len(y_train), 2))\n",
        "y_train_onehot[np.arange(len(y_train)),y_train-1] = 1\n",
        "y_test_onehot = np.zeros((len(y_test), 2))\n",
        "y_test_onehot[np.arange(len(y_test)),y_test-1] = 1"
      ],
      "metadata": {
        "id": "sbKA34jTH9_2"
      },
      "execution_count": 62,
      "outputs": []
    },
    {
      "cell_type": "code",
      "metadata": {
        "id": "j8R_thAXhnnu",
        "colab": {
          "base_uri": "https://localhost:8080/"
        },
        "outputId": "31454fbe-b6d3-4992-ef18-967dc5d0b57b"
      },
      "source": [
        "input_shape = (500,)\n",
        "num_classes = 2\n",
        "model = keras.Sequential(\n",
        "    [\n",
        "     layers.Dense(32,input_shape=input_shape,activation=\"relu\"),\n",
        "     layers.Dense(8,activation=\"relu\"),\n",
        "     layers.Dense(num_classes, activation=\"softmax\")\n",
        "    ])\n",
        "    \n",
        "\n",
        "model.compile(\n",
        "    loss=\"binary_crossentropy\",\n",
        "    optimizer=keras.optimizers.Adam(0.0001),\n",
        "    metrics=[\"accuracy\"]\n",
        ")\n",
        "\n",
        "history = model.fit(X_train, \n",
        "                    y_train_onehot, \n",
        "                    batch_size=32,\n",
        "                    epochs=80,\n",
        "                    validation_data=(X_test, y_test_onehot)\n",
        "                    )\n"
      ],
      "execution_count": 78,
      "outputs": [
        {
          "output_type": "stream",
          "name": "stdout",
          "text": [
            "Epoch 1/80\n",
            "9/9 [==============================] - 1s 49ms/step - loss: 202.1593 - accuracy: 0.5141 - val_loss: 163.5772 - val_accuracy: 0.5938\n",
            "Epoch 2/80\n",
            "9/9 [==============================] - 0s 13ms/step - loss: 169.5895 - accuracy: 0.5282 - val_loss: 147.7945 - val_accuracy: 0.5938\n",
            "Epoch 3/80\n",
            "9/9 [==============================] - 0s 12ms/step - loss: 148.9086 - accuracy: 0.5352 - val_loss: 132.6748 - val_accuracy: 0.5938\n",
            "Epoch 4/80\n",
            "9/9 [==============================] - 0s 10ms/step - loss: 129.1902 - accuracy: 0.5282 - val_loss: 121.1365 - val_accuracy: 0.5312\n",
            "Epoch 5/80\n",
            "9/9 [==============================] - 0s 11ms/step - loss: 114.2394 - accuracy: 0.5211 - val_loss: 109.8387 - val_accuracy: 0.5625\n",
            "Epoch 6/80\n",
            "9/9 [==============================] - 0s 12ms/step - loss: 99.1748 - accuracy: 0.5528 - val_loss: 100.7745 - val_accuracy: 0.5938\n",
            "Epoch 7/80\n",
            "9/9 [==============================] - 0s 6ms/step - loss: 88.5675 - accuracy: 0.5528 - val_loss: 93.6456 - val_accuracy: 0.5312\n",
            "Epoch 8/80\n",
            "9/9 [==============================] - 0s 6ms/step - loss: 78.7028 - accuracy: 0.5669 - val_loss: 90.8413 - val_accuracy: 0.5938\n",
            "Epoch 9/80\n",
            "9/9 [==============================] - 0s 7ms/step - loss: 69.6262 - accuracy: 0.5775 - val_loss: 86.7676 - val_accuracy: 0.6562\n",
            "Epoch 10/80\n",
            "9/9 [==============================] - 0s 7ms/step - loss: 62.6258 - accuracy: 0.5951 - val_loss: 81.5397 - val_accuracy: 0.6562\n",
            "Epoch 11/80\n",
            "9/9 [==============================] - 0s 7ms/step - loss: 55.8130 - accuracy: 0.6092 - val_loss: 78.7643 - val_accuracy: 0.6562\n",
            "Epoch 12/80\n",
            "9/9 [==============================] - 0s 7ms/step - loss: 50.0014 - accuracy: 0.6127 - val_loss: 76.1150 - val_accuracy: 0.6250\n",
            "Epoch 13/80\n",
            "9/9 [==============================] - 0s 8ms/step - loss: 44.5021 - accuracy: 0.6232 - val_loss: 73.3122 - val_accuracy: 0.6250\n",
            "Epoch 14/80\n",
            "9/9 [==============================] - 0s 6ms/step - loss: 40.3508 - accuracy: 0.6408 - val_loss: 71.9162 - val_accuracy: 0.5938\n",
            "Epoch 15/80\n",
            "9/9 [==============================] - 0s 9ms/step - loss: 36.1258 - accuracy: 0.6514 - val_loss: 68.6938 - val_accuracy: 0.5938\n",
            "Epoch 16/80\n",
            "9/9 [==============================] - 0s 6ms/step - loss: 32.3685 - accuracy: 0.6549 - val_loss: 66.0044 - val_accuracy: 0.5938\n",
            "Epoch 17/80\n",
            "9/9 [==============================] - 0s 7ms/step - loss: 28.8787 - accuracy: 0.6549 - val_loss: 63.2517 - val_accuracy: 0.5938\n",
            "Epoch 18/80\n",
            "9/9 [==============================] - 0s 7ms/step - loss: 25.8809 - accuracy: 0.6761 - val_loss: 61.4608 - val_accuracy: 0.5625\n",
            "Epoch 19/80\n",
            "9/9 [==============================] - 0s 6ms/step - loss: 22.9785 - accuracy: 0.6972 - val_loss: 59.0604 - val_accuracy: 0.5938\n",
            "Epoch 20/80\n",
            "9/9 [==============================] - 0s 7ms/step - loss: 20.4821 - accuracy: 0.6901 - val_loss: 57.5384 - val_accuracy: 0.5625\n",
            "Epoch 21/80\n",
            "9/9 [==============================] - 0s 6ms/step - loss: 18.4865 - accuracy: 0.6901 - val_loss: 55.9965 - val_accuracy: 0.5938\n",
            "Epoch 22/80\n",
            "9/9 [==============================] - 0s 6ms/step - loss: 16.5592 - accuracy: 0.7113 - val_loss: 53.6009 - val_accuracy: 0.5625\n",
            "Epoch 23/80\n",
            "9/9 [==============================] - 0s 6ms/step - loss: 14.6292 - accuracy: 0.7183 - val_loss: 51.4045 - val_accuracy: 0.5625\n",
            "Epoch 24/80\n",
            "9/9 [==============================] - 0s 7ms/step - loss: 13.2464 - accuracy: 0.7324 - val_loss: 49.8053 - val_accuracy: 0.5938\n",
            "Epoch 25/80\n",
            "9/9 [==============================] - 0s 7ms/step - loss: 11.9997 - accuracy: 0.7254 - val_loss: 48.7109 - val_accuracy: 0.5938\n",
            "Epoch 26/80\n",
            "9/9 [==============================] - 0s 7ms/step - loss: 10.8282 - accuracy: 0.7289 - val_loss: 47.3858 - val_accuracy: 0.5938\n",
            "Epoch 27/80\n",
            "9/9 [==============================] - 0s 7ms/step - loss: 9.8189 - accuracy: 0.7394 - val_loss: 45.9219 - val_accuracy: 0.5938\n",
            "Epoch 28/80\n",
            "9/9 [==============================] - 0s 9ms/step - loss: 8.9298 - accuracy: 0.7570 - val_loss: 44.5763 - val_accuracy: 0.6250\n",
            "Epoch 29/80\n",
            "9/9 [==============================] - 0s 7ms/step - loss: 8.2011 - accuracy: 0.7641 - val_loss: 43.9947 - val_accuracy: 0.6250\n",
            "Epoch 30/80\n",
            "9/9 [==============================] - 0s 7ms/step - loss: 7.2595 - accuracy: 0.7852 - val_loss: 43.2365 - val_accuracy: 0.6250\n",
            "Epoch 31/80\n",
            "9/9 [==============================] - 0s 6ms/step - loss: 6.6345 - accuracy: 0.7887 - val_loss: 42.5597 - val_accuracy: 0.6250\n",
            "Epoch 32/80\n",
            "9/9 [==============================] - 0s 6ms/step - loss: 6.1021 - accuracy: 0.7958 - val_loss: 41.8626 - val_accuracy: 0.6250\n",
            "Epoch 33/80\n",
            "9/9 [==============================] - 0s 6ms/step - loss: 5.7246 - accuracy: 0.8063 - val_loss: 41.8483 - val_accuracy: 0.6250\n",
            "Epoch 34/80\n",
            "9/9 [==============================] - 0s 6ms/step - loss: 5.1886 - accuracy: 0.8099 - val_loss: 40.6002 - val_accuracy: 0.6250\n",
            "Epoch 35/80\n",
            "9/9 [==============================] - 0s 7ms/step - loss: 4.9268 - accuracy: 0.8099 - val_loss: 40.3442 - val_accuracy: 0.6250\n",
            "Epoch 36/80\n",
            "9/9 [==============================] - 0s 7ms/step - loss: 4.3830 - accuracy: 0.8239 - val_loss: 40.7914 - val_accuracy: 0.6250\n",
            "Epoch 37/80\n",
            "9/9 [==============================] - 0s 7ms/step - loss: 4.0364 - accuracy: 0.8204 - val_loss: 40.1266 - val_accuracy: 0.6250\n",
            "Epoch 38/80\n",
            "9/9 [==============================] - 0s 6ms/step - loss: 3.6239 - accuracy: 0.8099 - val_loss: 39.5076 - val_accuracy: 0.6250\n",
            "Epoch 39/80\n",
            "9/9 [==============================] - 0s 7ms/step - loss: 3.3362 - accuracy: 0.8204 - val_loss: 39.2564 - val_accuracy: 0.6250\n",
            "Epoch 40/80\n",
            "9/9 [==============================] - 0s 7ms/step - loss: 3.2282 - accuracy: 0.8169 - val_loss: 39.1037 - val_accuracy: 0.6250\n",
            "Epoch 41/80\n",
            "9/9 [==============================] - 0s 7ms/step - loss: 3.0050 - accuracy: 0.8275 - val_loss: 39.0424 - val_accuracy: 0.6250\n",
            "Epoch 42/80\n",
            "9/9 [==============================] - 0s 7ms/step - loss: 2.7843 - accuracy: 0.8345 - val_loss: 38.1241 - val_accuracy: 0.6250\n",
            "Epoch 43/80\n",
            "9/9 [==============================] - 0s 8ms/step - loss: 2.6121 - accuracy: 0.8310 - val_loss: 37.9001 - val_accuracy: 0.6250\n",
            "Epoch 44/80\n",
            "9/9 [==============================] - 0s 7ms/step - loss: 2.4870 - accuracy: 0.8239 - val_loss: 37.4984 - val_accuracy: 0.6250\n",
            "Epoch 45/80\n",
            "9/9 [==============================] - 0s 7ms/step - loss: 2.3065 - accuracy: 0.8310 - val_loss: 36.9459 - val_accuracy: 0.6250\n",
            "Epoch 46/80\n",
            "9/9 [==============================] - 0s 7ms/step - loss: 2.1662 - accuracy: 0.8415 - val_loss: 36.9218 - val_accuracy: 0.6250\n",
            "Epoch 47/80\n",
            "9/9 [==============================] - 0s 6ms/step - loss: 2.0083 - accuracy: 0.8521 - val_loss: 36.8063 - val_accuracy: 0.6562\n",
            "Epoch 48/80\n",
            "9/9 [==============================] - 0s 7ms/step - loss: 1.7265 - accuracy: 0.8415 - val_loss: 36.3897 - val_accuracy: 0.6562\n",
            "Epoch 49/80\n",
            "9/9 [==============================] - 0s 7ms/step - loss: 1.8915 - accuracy: 0.8521 - val_loss: 36.1770 - val_accuracy: 0.6562\n",
            "Epoch 50/80\n",
            "9/9 [==============================] - 0s 6ms/step - loss: 1.4767 - accuracy: 0.8521 - val_loss: 36.2099 - val_accuracy: 0.6875\n",
            "Epoch 51/80\n",
            "9/9 [==============================] - 0s 6ms/step - loss: 1.4271 - accuracy: 0.8521 - val_loss: 36.1175 - val_accuracy: 0.6875\n",
            "Epoch 52/80\n",
            "9/9 [==============================] - 0s 7ms/step - loss: 1.3182 - accuracy: 0.8592 - val_loss: 35.8241 - val_accuracy: 0.6875\n",
            "Epoch 53/80\n",
            "9/9 [==============================] - 0s 7ms/step - loss: 1.3553 - accuracy: 0.8627 - val_loss: 35.5705 - val_accuracy: 0.6875\n",
            "Epoch 54/80\n",
            "9/9 [==============================] - 0s 7ms/step - loss: 1.2580 - accuracy: 0.8697 - val_loss: 35.1972 - val_accuracy: 0.7188\n",
            "Epoch 55/80\n",
            "9/9 [==============================] - 0s 8ms/step - loss: 1.2044 - accuracy: 0.8627 - val_loss: 35.0091 - val_accuracy: 0.7188\n",
            "Epoch 56/80\n",
            "9/9 [==============================] - 0s 8ms/step - loss: 1.1466 - accuracy: 0.8627 - val_loss: 35.3247 - val_accuracy: 0.6875\n",
            "Epoch 57/80\n",
            "9/9 [==============================] - 0s 7ms/step - loss: 1.1969 - accuracy: 0.8592 - val_loss: 35.0274 - val_accuracy: 0.7188\n",
            "Epoch 58/80\n",
            "9/9 [==============================] - 0s 8ms/step - loss: 1.1028 - accuracy: 0.8662 - val_loss: 34.7216 - val_accuracy: 0.6875\n",
            "Epoch 59/80\n",
            "9/9 [==============================] - 0s 7ms/step - loss: 1.0207 - accuracy: 0.8662 - val_loss: 34.6290 - val_accuracy: 0.6875\n",
            "Epoch 60/80\n",
            "9/9 [==============================] - 0s 7ms/step - loss: 1.1166 - accuracy: 0.8627 - val_loss: 34.1684 - val_accuracy: 0.6875\n",
            "Epoch 61/80\n",
            "9/9 [==============================] - 0s 6ms/step - loss: 0.9717 - accuracy: 0.8697 - val_loss: 33.9255 - val_accuracy: 0.6875\n",
            "Epoch 62/80\n",
            "9/9 [==============================] - 0s 7ms/step - loss: 0.9158 - accuracy: 0.8697 - val_loss: 33.8287 - val_accuracy: 0.6875\n",
            "Epoch 63/80\n",
            "9/9 [==============================] - 0s 8ms/step - loss: 0.8851 - accuracy: 0.8697 - val_loss: 33.6328 - val_accuracy: 0.6875\n",
            "Epoch 64/80\n",
            "9/9 [==============================] - 0s 7ms/step - loss: 0.8288 - accuracy: 0.8697 - val_loss: 33.2168 - val_accuracy: 0.6875\n",
            "Epoch 65/80\n",
            "9/9 [==============================] - 0s 6ms/step - loss: 0.9039 - accuracy: 0.8697 - val_loss: 33.0929 - val_accuracy: 0.6875\n",
            "Epoch 66/80\n",
            "9/9 [==============================] - 0s 6ms/step - loss: 0.8410 - accuracy: 0.8768 - val_loss: 33.1034 - val_accuracy: 0.6875\n",
            "Epoch 67/80\n",
            "9/9 [==============================] - 0s 7ms/step - loss: 0.7306 - accuracy: 0.8732 - val_loss: 33.1293 - val_accuracy: 0.6562\n",
            "Epoch 68/80\n",
            "9/9 [==============================] - 0s 7ms/step - loss: 0.7987 - accuracy: 0.8732 - val_loss: 32.8784 - val_accuracy: 0.6875\n",
            "Epoch 69/80\n",
            "9/9 [==============================] - 0s 7ms/step - loss: 0.7911 - accuracy: 0.8732 - val_loss: 32.7985 - val_accuracy: 0.6875\n",
            "Epoch 70/80\n",
            "9/9 [==============================] - 0s 6ms/step - loss: 0.8026 - accuracy: 0.8627 - val_loss: 33.3918 - val_accuracy: 0.6250\n",
            "Epoch 71/80\n",
            "9/9 [==============================] - 0s 6ms/step - loss: 0.6879 - accuracy: 0.8662 - val_loss: 33.1117 - val_accuracy: 0.6250\n",
            "Epoch 72/80\n",
            "9/9 [==============================] - 0s 6ms/step - loss: 0.7870 - accuracy: 0.8627 - val_loss: 32.8619 - val_accuracy: 0.6250\n",
            "Epoch 73/80\n",
            "9/9 [==============================] - 0s 8ms/step - loss: 0.6779 - accuracy: 0.8697 - val_loss: 32.8654 - val_accuracy: 0.6562\n",
            "Epoch 74/80\n",
            "9/9 [==============================] - 0s 7ms/step - loss: 0.5903 - accuracy: 0.8768 - val_loss: 32.6544 - val_accuracy: 0.6562\n",
            "Epoch 75/80\n",
            "9/9 [==============================] - 0s 6ms/step - loss: 0.7366 - accuracy: 0.8803 - val_loss: 32.5361 - val_accuracy: 0.6562\n",
            "Epoch 76/80\n",
            "9/9 [==============================] - 0s 8ms/step - loss: 0.5625 - accuracy: 0.8873 - val_loss: 32.4815 - val_accuracy: 0.6250\n",
            "Epoch 77/80\n",
            "9/9 [==============================] - 0s 7ms/step - loss: 0.5575 - accuracy: 0.8838 - val_loss: 32.5384 - val_accuracy: 0.6250\n",
            "Epoch 78/80\n",
            "9/9 [==============================] - 0s 7ms/step - loss: 0.5618 - accuracy: 0.8873 - val_loss: 32.3447 - val_accuracy: 0.6250\n",
            "Epoch 79/80\n",
            "9/9 [==============================] - 0s 7ms/step - loss: 0.5356 - accuracy: 0.8838 - val_loss: 32.4071 - val_accuracy: 0.6250\n",
            "Epoch 80/80\n",
            "9/9 [==============================] - 0s 6ms/step - loss: 0.5534 - accuracy: 0.8838 - val_loss: 32.4648 - val_accuracy: 0.6250\n"
          ]
        }
      ]
    },
    {
      "cell_type": "code",
      "source": [
        "plt.plot(history.history['val_accuracy'])\n",
        "plt.plot(history.history['accuracy'])\n",
        "plt.legend(['test', 'train'], loc='upper left')"
      ],
      "metadata": {
        "id": "OYID4NoeMaDM",
        "colab": {
          "base_uri": "https://localhost:8080/",
          "height": 283
        },
        "outputId": "0fbfff4f-7345-4a45-9ca1-e96aa83f92ad"
      },
      "execution_count": 79,
      "outputs": [
        {
          "output_type": "execute_result",
          "data": {
            "text/plain": [
              "<matplotlib.legend.Legend at 0x7f4ba04de590>"
            ]
          },
          "metadata": {},
          "execution_count": 79
        },
        {
          "output_type": "display_data",
          "data": {
            "image/png": "[encoded data removed]",
            "text/plain": [
              "<Figure size 432x288 with 1 Axes>"
            ]
          },
          "metadata": {
            "needs_background": "light"
          }
        }
      ]
    }
  ]
}